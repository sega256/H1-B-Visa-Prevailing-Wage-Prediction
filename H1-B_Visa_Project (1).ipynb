{
 "cells": [
  {
   "cell_type": "markdown",
   "metadata": {},
   "source": [
    "### H1-B Visa Wage Prediction.\n",
    "-----\n",
    "-----"
   ]
  },
  {
   "cell_type": "code",
   "execution_count": 1,
   "metadata": {},
   "outputs": [
    {
     "data": {
      "text/plain": [
       "'C:\\\\Users\\\\shaz-'"
      ]
     },
     "execution_count": 1,
     "metadata": {},
     "output_type": "execute_result"
    }
   ],
   "source": [
    "%pwd"
   ]
  },
  {
   "cell_type": "code",
   "execution_count": 2,
   "metadata": {},
   "outputs": [],
   "source": [
    "import os\n",
    "os.chdir('E:\\ML Project\\Project1')"
   ]
  },
  {
   "cell_type": "code",
   "execution_count": 3,
   "metadata": {},
   "outputs": [],
   "source": [
    "import pandas as pd\n",
    "import numpy as np \n",
    "import warnings\n",
    "import collections\n",
    "import seaborn as sns\n",
    "from datetime import datetime\n",
    "from matplotlib import pyplot as plt\n",
    "from sklearn.model_selection import train_test_split\n",
    "from sklearn.linear_model import LinearRegression,Ridge,Lasso,RidgeCV,LassoCV\n",
    "from sklearn.metrics import r2_score , mean_absolute_error, mean_squared_error\n",
    "warnings.filterwarnings(\"ignore\")\n",
    "pd.pandas.set_option('display.max_columns', None)"
   ]
  },
  {
   "cell_type": "code",
   "execution_count": 4,
   "metadata": {},
   "outputs": [
    {
     "name": "stdout",
     "output_type": "stream",
     "text": [
      "Dimension: (624650, 52)\n"
     ]
    },
    {
     "data": {
      "text/html": [
       "<div>\n",
       "<style scoped>\n",
       "    .dataframe tbody tr th:only-of-type {\n",
       "        vertical-align: middle;\n",
       "    }\n",
       "\n",
       "    .dataframe tbody tr th {\n",
       "        vertical-align: top;\n",
       "    }\n",
       "\n",
       "    .dataframe thead th {\n",
       "        text-align: right;\n",
       "    }\n",
       "</style>\n",
       "<table border=\"1\" class=\"dataframe\">\n",
       "  <thead>\n",
       "    <tr style=\"text-align: right;\">\n",
       "      <th></th>\n",
       "      <th>case_number</th>\n",
       "      <th>visa_class</th>\n",
       "      <th>case_status</th>\n",
       "      <th>employer_name</th>\n",
       "      <th>employer_business_dba</th>\n",
       "      <th>employer_address</th>\n",
       "      <th>employer_city</th>\n",
       "      <th>employer_state</th>\n",
       "      <th>employer_postal_code</th>\n",
       "      <th>employer_country</th>\n",
       "      <th>employer_province</th>\n",
       "      <th>employer_phone</th>\n",
       "      <th>employer_phone_ext</th>\n",
       "      <th>naics_code</th>\n",
       "      <th>soc_name</th>\n",
       "      <th>soc_code</th>\n",
       "      <th>job_title</th>\n",
       "      <th>total_workers</th>\n",
       "      <th>case_submitted</th>\n",
       "      <th>decision_date</th>\n",
       "      <th>employment_start_date</th>\n",
       "      <th>employment_end_date</th>\n",
       "      <th>full_time_position</th>\n",
       "      <th>prevailing_wage</th>\n",
       "      <th>pw_unit_of_pay</th>\n",
       "      <th>wage_rate_of_pay_from</th>\n",
       "      <th>wage_rate_of_pay_to</th>\n",
       "      <th>wage_unit_of_pay</th>\n",
       "      <th>worksite_city</th>\n",
       "      <th>worksite_county</th>\n",
       "      <th>worksite_state</th>\n",
       "      <th>worksite_postal_code</th>\n",
       "      <th>agent_attorney_name</th>\n",
       "      <th>agent_representing_employer</th>\n",
       "      <th>agent_attorney_city</th>\n",
       "      <th>agent_attorney_state</th>\n",
       "      <th>h1b_dependent</th>\n",
       "      <th>willful_violator</th>\n",
       "      <th>original_cert_date</th>\n",
       "      <th>new_employment</th>\n",
       "      <th>continued_employment</th>\n",
       "      <th>change_previous_employment</th>\n",
       "      <th>new_concurrent_employment</th>\n",
       "      <th>change_employer</th>\n",
       "      <th>amended_petition</th>\n",
       "      <th>pw_wage_level</th>\n",
       "      <th>pw_source</th>\n",
       "      <th>pw_source_year</th>\n",
       "      <th>pw_source_other</th>\n",
       "      <th>support_h1b</th>\n",
       "      <th>labor_con_agree</th>\n",
       "      <th>public_disclosure_location</th>\n",
       "    </tr>\n",
       "  </thead>\n",
       "  <tbody>\n",
       "    <tr>\n",
       "      <th>0</th>\n",
       "      <td>I-200-17060-115035</td>\n",
       "      <td>H-1B</td>\n",
       "      <td>CERTIFIED</td>\n",
       "      <td>SIMERICS, INC.</td>\n",
       "      <td>NaN</td>\n",
       "      <td>1750 112TH AVENUE NE</td>\n",
       "      <td>BELLEVUE</td>\n",
       "      <td>WA</td>\n",
       "      <td>98004</td>\n",
       "      <td>UNITED STATES OF AMERICA</td>\n",
       "      <td>NaN</td>\n",
       "      <td>4255029978</td>\n",
       "      <td>NaN</td>\n",
       "      <td>541512</td>\n",
       "      <td>MECHANICAL ENGINEERS</td>\n",
       "      <td>17-2141</td>\n",
       "      <td>PROJECT ENGINEER</td>\n",
       "      <td>1</td>\n",
       "      <td>2017-02-28</td>\n",
       "      <td>2017-03-06</td>\n",
       "      <td>2017-08-30</td>\n",
       "      <td>2020-08-30</td>\n",
       "      <td>Y</td>\n",
       "      <td>76773.0</td>\n",
       "      <td>Year</td>\n",
       "      <td>86000.0</td>\n",
       "      <td>0.0</td>\n",
       "      <td>Year</td>\n",
       "      <td>NOVI</td>\n",
       "      <td>OAKLAND</td>\n",
       "      <td>MI</td>\n",
       "      <td>48375</td>\n",
       "      <td>DIVATIA, AKSHAT</td>\n",
       "      <td>Y</td>\n",
       "      <td>BELLEVUE</td>\n",
       "      <td>WA</td>\n",
       "      <td>N</td>\n",
       "      <td>N</td>\n",
       "      <td>NaN</td>\n",
       "      <td>1.0</td>\n",
       "      <td>0.0</td>\n",
       "      <td>0.0</td>\n",
       "      <td>0.0</td>\n",
       "      <td>0.0</td>\n",
       "      <td>0.0</td>\n",
       "      <td>Level II</td>\n",
       "      <td>Other</td>\n",
       "      <td>2016.0</td>\n",
       "      <td>OFLC ONLINE DATA CENTER</td>\n",
       "      <td>NaN</td>\n",
       "      <td>NaN</td>\n",
       "      <td>NaN</td>\n",
       "    </tr>\n",
       "    <tr>\n",
       "      <th>1</th>\n",
       "      <td>I-200-17060-521850</td>\n",
       "      <td>H-1B</td>\n",
       "      <td>CERTIFIED</td>\n",
       "      <td>MIZUHO BANK, LTD.</td>\n",
       "      <td>NaN</td>\n",
       "      <td>1251 AVENUE OF THE AMERICAS</td>\n",
       "      <td>NEW YORK</td>\n",
       "      <td>NY</td>\n",
       "      <td>10020</td>\n",
       "      <td>UNITED STATES OF AMERICA</td>\n",
       "      <td>NaN</td>\n",
       "      <td>2122823260</td>\n",
       "      <td>NaN</td>\n",
       "      <td>522110</td>\n",
       "      <td>FINANCIAL ANALYSTS</td>\n",
       "      <td>13-2051</td>\n",
       "      <td>ANALYST</td>\n",
       "      <td>1</td>\n",
       "      <td>2017-02-28</td>\n",
       "      <td>2017-03-06</td>\n",
       "      <td>2017-08-30</td>\n",
       "      <td>2020-08-30</td>\n",
       "      <td>Y</td>\n",
       "      <td>65749.0</td>\n",
       "      <td>Year</td>\n",
       "      <td>90000.0</td>\n",
       "      <td>0.0</td>\n",
       "      <td>Year</td>\n",
       "      <td>NEW YORK</td>\n",
       "      <td>NEW YORK</td>\n",
       "      <td>NY</td>\n",
       "      <td>10020</td>\n",
       "      <td>ANSTEY, SARAH</td>\n",
       "      <td>Y</td>\n",
       "      <td>NEW YORK</td>\n",
       "      <td>NY</td>\n",
       "      <td>N</td>\n",
       "      <td>N</td>\n",
       "      <td>NaN</td>\n",
       "      <td>1.0</td>\n",
       "      <td>0.0</td>\n",
       "      <td>0.0</td>\n",
       "      <td>0.0</td>\n",
       "      <td>0.0</td>\n",
       "      <td>0.0</td>\n",
       "      <td>Level I</td>\n",
       "      <td>OES</td>\n",
       "      <td>2016.0</td>\n",
       "      <td>OFLC ONLINE DATA CENTER</td>\n",
       "      <td>NaN</td>\n",
       "      <td>NaN</td>\n",
       "      <td>NaN</td>\n",
       "    </tr>\n",
       "    <tr>\n",
       "      <th>2</th>\n",
       "      <td>I-200-17060-438863</td>\n",
       "      <td>H-1B</td>\n",
       "      <td>CERTIFIED</td>\n",
       "      <td>TATA CONSULTANCY SERVICES LIMITED</td>\n",
       "      <td>NaN</td>\n",
       "      <td>9201 CORPORATE BOULEVARD</td>\n",
       "      <td>ROCKVILLE</td>\n",
       "      <td>MD</td>\n",
       "      <td>20850</td>\n",
       "      <td>UNITED STATES OF AMERICA</td>\n",
       "      <td>NaN</td>\n",
       "      <td>3012319083</td>\n",
       "      <td>NaN</td>\n",
       "      <td>541511</td>\n",
       "      <td>WEB DEVELOPERS</td>\n",
       "      <td>15-1134</td>\n",
       "      <td>DEVELOPER USER INTERFACE</td>\n",
       "      <td>1</td>\n",
       "      <td>2017-02-28</td>\n",
       "      <td>2017-03-06</td>\n",
       "      <td>2017-08-11</td>\n",
       "      <td>2020-08-10</td>\n",
       "      <td>Y</td>\n",
       "      <td>49275.0</td>\n",
       "      <td>Year</td>\n",
       "      <td>60700.0</td>\n",
       "      <td>87000.0</td>\n",
       "      <td>Year</td>\n",
       "      <td>LINCOLNSHIRE</td>\n",
       "      <td>LAKE</td>\n",
       "      <td>IL</td>\n",
       "      <td>60069</td>\n",
       "      <td>MUHLENKAMP, PRISCILLA</td>\n",
       "      <td>Y</td>\n",
       "      <td>WASHINGTON</td>\n",
       "      <td>DC</td>\n",
       "      <td>Y</td>\n",
       "      <td>N</td>\n",
       "      <td>NaN</td>\n",
       "      <td>0.0</td>\n",
       "      <td>1.0</td>\n",
       "      <td>0.0</td>\n",
       "      <td>0.0</td>\n",
       "      <td>0.0</td>\n",
       "      <td>0.0</td>\n",
       "      <td>Level II</td>\n",
       "      <td>OES</td>\n",
       "      <td>2016.0</td>\n",
       "      <td>OFLC ONLINE DATA CENTER</td>\n",
       "      <td>Y</td>\n",
       "      <td>NaN</td>\n",
       "      <td>NaN</td>\n",
       "    </tr>\n",
       "    <tr>\n",
       "      <th>3</th>\n",
       "      <td>I-200-17060-312033</td>\n",
       "      <td>H-1B</td>\n",
       "      <td>CERTIFIED</td>\n",
       "      <td>STRATEGIC RESOURCES INTERNATIONAL, INC.</td>\n",
       "      <td>NaN</td>\n",
       "      <td>777 WASHINGTON RD</td>\n",
       "      <td>PARLIN</td>\n",
       "      <td>NJ</td>\n",
       "      <td>08859</td>\n",
       "      <td>UNITED STATES OF AMERICA</td>\n",
       "      <td>NaN</td>\n",
       "      <td>7328874646</td>\n",
       "      <td>NaN</td>\n",
       "      <td>541511</td>\n",
       "      <td>COMPUTER PROGRAMMERS</td>\n",
       "      <td>15-1131</td>\n",
       "      <td>PROGRAMMER ANALYST</td>\n",
       "      <td>1</td>\n",
       "      <td>2017-02-28</td>\n",
       "      <td>2017-03-06</td>\n",
       "      <td>2017-08-30</td>\n",
       "      <td>2020-08-30</td>\n",
       "      <td>Y</td>\n",
       "      <td>55910.0</td>\n",
       "      <td>Year</td>\n",
       "      <td>60000.0</td>\n",
       "      <td>0.0</td>\n",
       "      <td>Year</td>\n",
       "      <td>WEEHAWKEN</td>\n",
       "      <td>HUDSON</td>\n",
       "      <td>NJ</td>\n",
       "      <td>07086</td>\n",
       "      <td>,</td>\n",
       "      <td>N</td>\n",
       "      <td>NaN</td>\n",
       "      <td>NaN</td>\n",
       "      <td>Y</td>\n",
       "      <td>N</td>\n",
       "      <td>NaN</td>\n",
       "      <td>1.0</td>\n",
       "      <td>0.0</td>\n",
       "      <td>0.0</td>\n",
       "      <td>0.0</td>\n",
       "      <td>0.0</td>\n",
       "      <td>0.0</td>\n",
       "      <td>Level I</td>\n",
       "      <td>Other</td>\n",
       "      <td>2016.0</td>\n",
       "      <td>OFLC ONLINE DATA CENTER</td>\n",
       "      <td>Y</td>\n",
       "      <td>Y</td>\n",
       "      <td>NaN</td>\n",
       "    </tr>\n",
       "    <tr>\n",
       "      <th>4</th>\n",
       "      <td>I-200-17060-336602</td>\n",
       "      <td>H-1B</td>\n",
       "      <td>CERTIFIED</td>\n",
       "      <td>EAPT SOLUTIONS, INC.</td>\n",
       "      <td>NaN</td>\n",
       "      <td>5 VAUGHN STREET</td>\n",
       "      <td>PRINCETON</td>\n",
       "      <td>NJ</td>\n",
       "      <td>08540</td>\n",
       "      <td>UNITED STATES OF AMERICA</td>\n",
       "      <td>NaN</td>\n",
       "      <td>7329810630</td>\n",
       "      <td>104</td>\n",
       "      <td>541511</td>\n",
       "      <td>SOFTWARE DEVELOPERS, APPLICATIONS</td>\n",
       "      <td>15-1132</td>\n",
       "      <td>JAVA DEVELOPER</td>\n",
       "      <td>1</td>\n",
       "      <td>2017-02-28</td>\n",
       "      <td>2017-03-06</td>\n",
       "      <td>2017-03-01</td>\n",
       "      <td>2020-03-01</td>\n",
       "      <td>Y</td>\n",
       "      <td>68390.0</td>\n",
       "      <td>Year</td>\n",
       "      <td>68500.0</td>\n",
       "      <td>0.0</td>\n",
       "      <td>Year</td>\n",
       "      <td>NEWTON</td>\n",
       "      <td>MIDDLESEX COUNTY</td>\n",
       "      <td>MA</td>\n",
       "      <td>02459</td>\n",
       "      <td>,</td>\n",
       "      <td>N</td>\n",
       "      <td>NaN</td>\n",
       "      <td>NaN</td>\n",
       "      <td>Y</td>\n",
       "      <td>N</td>\n",
       "      <td>NaN</td>\n",
       "      <td>0.0</td>\n",
       "      <td>0.0</td>\n",
       "      <td>0.0</td>\n",
       "      <td>0.0</td>\n",
       "      <td>1.0</td>\n",
       "      <td>0.0</td>\n",
       "      <td>Level I</td>\n",
       "      <td>OES</td>\n",
       "      <td>2016.0</td>\n",
       "      <td>OFLC ONLINE DATA CENTER</td>\n",
       "      <td>Y</td>\n",
       "      <td>NaN</td>\n",
       "      <td>NaN</td>\n",
       "    </tr>\n",
       "  </tbody>\n",
       "</table>\n",
       "</div>"
      ],
      "text/plain": [
       "          case_number visa_class case_status  \\\n",
       "0  I-200-17060-115035       H-1B   CERTIFIED   \n",
       "1  I-200-17060-521850       H-1B   CERTIFIED   \n",
       "2  I-200-17060-438863       H-1B   CERTIFIED   \n",
       "3  I-200-17060-312033       H-1B   CERTIFIED   \n",
       "4  I-200-17060-336602       H-1B   CERTIFIED   \n",
       "\n",
       "                             employer_name employer_business_dba  \\\n",
       "0                           SIMERICS, INC.                   NaN   \n",
       "1                        MIZUHO BANK, LTD.                   NaN   \n",
       "2        TATA CONSULTANCY SERVICES LIMITED                   NaN   \n",
       "3  STRATEGIC RESOURCES INTERNATIONAL, INC.                   NaN   \n",
       "4                     EAPT SOLUTIONS, INC.                   NaN   \n",
       "\n",
       "              employer_address employer_city employer_state  \\\n",
       "0         1750 112TH AVENUE NE      BELLEVUE             WA   \n",
       "1  1251 AVENUE OF THE AMERICAS      NEW YORK             NY   \n",
       "2     9201 CORPORATE BOULEVARD     ROCKVILLE             MD   \n",
       "3            777 WASHINGTON RD        PARLIN             NJ   \n",
       "4              5 VAUGHN STREET     PRINCETON             NJ   \n",
       "\n",
       "  employer_postal_code          employer_country employer_province  \\\n",
       "0                98004  UNITED STATES OF AMERICA               NaN   \n",
       "1                10020  UNITED STATES OF AMERICA               NaN   \n",
       "2                20850  UNITED STATES OF AMERICA               NaN   \n",
       "3                08859  UNITED STATES OF AMERICA               NaN   \n",
       "4                08540  UNITED STATES OF AMERICA               NaN   \n",
       "\n",
       "  employer_phone employer_phone_ext naics_code  \\\n",
       "0     4255029978                NaN     541512   \n",
       "1     2122823260                NaN     522110   \n",
       "2     3012319083                NaN     541511   \n",
       "3     7328874646                NaN     541511   \n",
       "4     7329810630                104     541511   \n",
       "\n",
       "                            soc_name soc_code                 job_title  \\\n",
       "0               MECHANICAL ENGINEERS  17-2141          PROJECT ENGINEER   \n",
       "1                 FINANCIAL ANALYSTS  13-2051                   ANALYST   \n",
       "2                     WEB DEVELOPERS  15-1134  DEVELOPER USER INTERFACE   \n",
       "3               COMPUTER PROGRAMMERS  15-1131        PROGRAMMER ANALYST   \n",
       "4  SOFTWARE DEVELOPERS, APPLICATIONS  15-1132            JAVA DEVELOPER   \n",
       "\n",
       "   total_workers case_submitted decision_date employment_start_date  \\\n",
       "0              1     2017-02-28    2017-03-06            2017-08-30   \n",
       "1              1     2017-02-28    2017-03-06            2017-08-30   \n",
       "2              1     2017-02-28    2017-03-06            2017-08-11   \n",
       "3              1     2017-02-28    2017-03-06            2017-08-30   \n",
       "4              1     2017-02-28    2017-03-06            2017-03-01   \n",
       "\n",
       "  employment_end_date full_time_position  prevailing_wage pw_unit_of_pay  \\\n",
       "0          2020-08-30                  Y          76773.0           Year   \n",
       "1          2020-08-30                  Y          65749.0           Year   \n",
       "2          2020-08-10                  Y          49275.0           Year   \n",
       "3          2020-08-30                  Y          55910.0           Year   \n",
       "4          2020-03-01                  Y          68390.0           Year   \n",
       "\n",
       "   wage_rate_of_pay_from  wage_rate_of_pay_to wage_unit_of_pay worksite_city  \\\n",
       "0                86000.0                  0.0             Year          NOVI   \n",
       "1                90000.0                  0.0             Year      NEW YORK   \n",
       "2                60700.0              87000.0             Year  LINCOLNSHIRE   \n",
       "3                60000.0                  0.0             Year     WEEHAWKEN   \n",
       "4                68500.0                  0.0             Year        NEWTON   \n",
       "\n",
       "    worksite_county worksite_state worksite_postal_code  \\\n",
       "0           OAKLAND             MI                48375   \n",
       "1          NEW YORK             NY                10020   \n",
       "2              LAKE             IL                60069   \n",
       "3            HUDSON             NJ                07086   \n",
       "4  MIDDLESEX COUNTY             MA                02459   \n",
       "\n",
       "     agent_attorney_name agent_representing_employer agent_attorney_city  \\\n",
       "0        DIVATIA, AKSHAT                           Y            BELLEVUE   \n",
       "1          ANSTEY, SARAH                           Y            NEW YORK   \n",
       "2  MUHLENKAMP, PRISCILLA                           Y          WASHINGTON   \n",
       "3                      ,                           N                 NaN   \n",
       "4                      ,                           N                 NaN   \n",
       "\n",
       "  agent_attorney_state h1b_dependent willful_violator original_cert_date  \\\n",
       "0                   WA             N                N                NaN   \n",
       "1                   NY             N                N                NaN   \n",
       "2                   DC             Y                N                NaN   \n",
       "3                  NaN             Y                N                NaN   \n",
       "4                  NaN             Y                N                NaN   \n",
       "\n",
       "   new_employment  continued_employment  change_previous_employment  \\\n",
       "0             1.0                   0.0                         0.0   \n",
       "1             1.0                   0.0                         0.0   \n",
       "2             0.0                   1.0                         0.0   \n",
       "3             1.0                   0.0                         0.0   \n",
       "4             0.0                   0.0                         0.0   \n",
       "\n",
       "   new_concurrent_employment  change_employer  amended_petition pw_wage_level  \\\n",
       "0                        0.0              0.0               0.0      Level II   \n",
       "1                        0.0              0.0               0.0       Level I   \n",
       "2                        0.0              0.0               0.0      Level II   \n",
       "3                        0.0              0.0               0.0       Level I   \n",
       "4                        0.0              1.0               0.0       Level I   \n",
       "\n",
       "  pw_source  pw_source_year          pw_source_other support_h1b  \\\n",
       "0     Other          2016.0  OFLC ONLINE DATA CENTER         NaN   \n",
       "1       OES          2016.0  OFLC ONLINE DATA CENTER         NaN   \n",
       "2       OES          2016.0  OFLC ONLINE DATA CENTER           Y   \n",
       "3     Other          2016.0  OFLC ONLINE DATA CENTER           Y   \n",
       "4       OES          2016.0  OFLC ONLINE DATA CENTER           Y   \n",
       "\n",
       "  labor_con_agree  public_disclosure_location  \n",
       "0             NaN                         NaN  \n",
       "1             NaN                         NaN  \n",
       "2             NaN                         NaN  \n",
       "3               Y                         NaN  \n",
       "4             NaN                         NaN  "
      ]
     },
     "execution_count": 4,
     "metadata": {},
     "output_type": "execute_result"
    }
   ],
   "source": [
    "dataset = pd.read_csv('H-1BVisaApplications-2017.csv',na_values=['NA'],index_col=None)\n",
    "print('Dimension: {}'.format(dataset.shape))\n",
    "dataset.head()"
   ]
  },
  {
   "cell_type": "code",
   "execution_count": 5,
   "metadata": {},
   "outputs": [
    {
     "data": {
      "text/plain": [
       "case_number                         0\n",
       "visa_class                          0\n",
       "case_status                         0\n",
       "employer_name                      56\n",
       "employer_business_dba          581380\n",
       "employer_address                    7\n",
       "employer_city                      15\n",
       "employer_state                     18\n",
       "employer_postal_code               18\n",
       "employer_country                96507\n",
       "employer_province              618534\n",
       "employer_phone                  96508\n",
       "employer_phone_ext             596778\n",
       "naics_code                          7\n",
       "soc_name                            3\n",
       "soc_code                            2\n",
       "job_title                           5\n",
       "total_workers                       0\n",
       "case_submitted                      0\n",
       "decision_date                       0\n",
       "employment_start_date              29\n",
       "employment_end_date                30\n",
       "full_time_position                  5\n",
       "prevailing_wage                     1\n",
       "pw_unit_of_pay                     46\n",
       "wage_rate_of_pay_from               0\n",
       "wage_rate_of_pay_to                 1\n",
       "wage_unit_of_pay                    8\n",
       "worksite_city                      13\n",
       "worksite_county                  1179\n",
       "worksite_state                      9\n",
       "worksite_postal_code               19\n",
       "agent_attorney_name                 0\n",
       "agent_representing_employer     96506\n",
       "agent_attorney_city            273306\n",
       "agent_attorney_state           288641\n",
       "h1b_dependent                   13742\n",
       "willful_violator                13745\n",
       "original_cert_date             574942\n",
       "new_employment                      0\n",
       "continued_employment                0\n",
       "change_previous_employment          0\n",
       "new_concurrent_employment           0\n",
       "change_employer                     0\n",
       "amended_petition                    0\n",
       "pw_wage_level                  123720\n",
       "pw_source                          46\n",
       "pw_source_year                     45\n",
       "pw_source_other                  6372\n",
       "support_h1b                    384174\n",
       "labor_con_agree                379675\n",
       "public_disclosure_location     624650\n",
       "dtype: int64"
      ]
     },
     "execution_count": 5,
     "metadata": {},
     "output_type": "execute_result"
    }
   ],
   "source": [
    "# Variables that contain missing values\n",
    "dataset.isnull().sum()"
   ]
  },
  {
   "cell_type": "markdown",
   "metadata": {},
   "source": [
    "## Selecting columns.\n",
    "-----"
   ]
  },
  {
   "cell_type": "code",
   "execution_count": 6,
   "metadata": {},
   "outputs": [],
   "source": [
    "dataset = dataset[['visa_class',\n",
    "                   'case_status',\n",
    "                   'employer_city',\n",
    "                   'employer_state',\n",
    "                   'employer_country',\n",
    "                   'soc_name',\n",
    "                   'soc_code',\n",
    "                   'job_title',\n",
    "                   'total_workers',\n",
    "                   'employment_start_date',\n",
    "                   'employment_end_date',\n",
    "                   'full_time_position',\n",
    "                   'pw_unit_of_pay',\n",
    "                   'wage_rate_of_pay_from',\n",
    "                   'wage_rate_of_pay_to',\n",
    "                   'wage_unit_of_pay',\n",
    "                   'worksite_city',\n",
    "                   'worksite_county',\n",
    "                   'new_employment',\n",
    "                   'continued_employment',\n",
    "                   'change_previous_employment',\n",
    "                   'new_concurrent_employment',\n",
    "                   'pw_wage_level',\n",
    "                   'pw_source',\n",
    "                   'pw_source_year',\n",
    "                   'pw_source_other',\n",
    "                   'prevailing_wage'\n",
    "                  ]]"
   ]
  },
  {
   "cell_type": "code",
   "execution_count": 7,
   "metadata": {},
   "outputs": [
    {
     "data": {
      "text/html": [
       "<div>\n",
       "<style scoped>\n",
       "    .dataframe tbody tr th:only-of-type {\n",
       "        vertical-align: middle;\n",
       "    }\n",
       "\n",
       "    .dataframe tbody tr th {\n",
       "        vertical-align: top;\n",
       "    }\n",
       "\n",
       "    .dataframe thead th {\n",
       "        text-align: right;\n",
       "    }\n",
       "</style>\n",
       "<table border=\"1\" class=\"dataframe\">\n",
       "  <thead>\n",
       "    <tr style=\"text-align: right;\">\n",
       "      <th></th>\n",
       "      <th>visa_class</th>\n",
       "      <th>case_status</th>\n",
       "      <th>employer_city</th>\n",
       "      <th>employer_state</th>\n",
       "      <th>employer_country</th>\n",
       "      <th>soc_name</th>\n",
       "      <th>soc_code</th>\n",
       "      <th>job_title</th>\n",
       "      <th>total_workers</th>\n",
       "      <th>employment_start_date</th>\n",
       "      <th>employment_end_date</th>\n",
       "      <th>full_time_position</th>\n",
       "      <th>pw_unit_of_pay</th>\n",
       "      <th>wage_rate_of_pay_from</th>\n",
       "      <th>wage_rate_of_pay_to</th>\n",
       "      <th>wage_unit_of_pay</th>\n",
       "      <th>worksite_city</th>\n",
       "      <th>worksite_county</th>\n",
       "      <th>new_employment</th>\n",
       "      <th>continued_employment</th>\n",
       "      <th>change_previous_employment</th>\n",
       "      <th>new_concurrent_employment</th>\n",
       "      <th>pw_wage_level</th>\n",
       "      <th>pw_source</th>\n",
       "      <th>pw_source_year</th>\n",
       "      <th>pw_source_other</th>\n",
       "      <th>prevailing_wage</th>\n",
       "    </tr>\n",
       "  </thead>\n",
       "  <tbody>\n",
       "    <tr>\n",
       "      <th>0</th>\n",
       "      <td>H-1B</td>\n",
       "      <td>CERTIFIED</td>\n",
       "      <td>BELLEVUE</td>\n",
       "      <td>WA</td>\n",
       "      <td>UNITED STATES OF AMERICA</td>\n",
       "      <td>MECHANICAL ENGINEERS</td>\n",
       "      <td>17-2141</td>\n",
       "      <td>PROJECT ENGINEER</td>\n",
       "      <td>1</td>\n",
       "      <td>2017-08-30</td>\n",
       "      <td>2020-08-30</td>\n",
       "      <td>Y</td>\n",
       "      <td>Year</td>\n",
       "      <td>86000.0</td>\n",
       "      <td>0.0</td>\n",
       "      <td>Year</td>\n",
       "      <td>NOVI</td>\n",
       "      <td>OAKLAND</td>\n",
       "      <td>1.0</td>\n",
       "      <td>0.0</td>\n",
       "      <td>0.0</td>\n",
       "      <td>0.0</td>\n",
       "      <td>Level II</td>\n",
       "      <td>Other</td>\n",
       "      <td>2016.0</td>\n",
       "      <td>OFLC ONLINE DATA CENTER</td>\n",
       "      <td>76773.0</td>\n",
       "    </tr>\n",
       "    <tr>\n",
       "      <th>1</th>\n",
       "      <td>H-1B</td>\n",
       "      <td>CERTIFIED</td>\n",
       "      <td>NEW YORK</td>\n",
       "      <td>NY</td>\n",
       "      <td>UNITED STATES OF AMERICA</td>\n",
       "      <td>FINANCIAL ANALYSTS</td>\n",
       "      <td>13-2051</td>\n",
       "      <td>ANALYST</td>\n",
       "      <td>1</td>\n",
       "      <td>2017-08-30</td>\n",
       "      <td>2020-08-30</td>\n",
       "      <td>Y</td>\n",
       "      <td>Year</td>\n",
       "      <td>90000.0</td>\n",
       "      <td>0.0</td>\n",
       "      <td>Year</td>\n",
       "      <td>NEW YORK</td>\n",
       "      <td>NEW YORK</td>\n",
       "      <td>1.0</td>\n",
       "      <td>0.0</td>\n",
       "      <td>0.0</td>\n",
       "      <td>0.0</td>\n",
       "      <td>Level I</td>\n",
       "      <td>OES</td>\n",
       "      <td>2016.0</td>\n",
       "      <td>OFLC ONLINE DATA CENTER</td>\n",
       "      <td>65749.0</td>\n",
       "    </tr>\n",
       "    <tr>\n",
       "      <th>2</th>\n",
       "      <td>H-1B</td>\n",
       "      <td>CERTIFIED</td>\n",
       "      <td>ROCKVILLE</td>\n",
       "      <td>MD</td>\n",
       "      <td>UNITED STATES OF AMERICA</td>\n",
       "      <td>WEB DEVELOPERS</td>\n",
       "      <td>15-1134</td>\n",
       "      <td>DEVELOPER USER INTERFACE</td>\n",
       "      <td>1</td>\n",
       "      <td>2017-08-11</td>\n",
       "      <td>2020-08-10</td>\n",
       "      <td>Y</td>\n",
       "      <td>Year</td>\n",
       "      <td>60700.0</td>\n",
       "      <td>87000.0</td>\n",
       "      <td>Year</td>\n",
       "      <td>LINCOLNSHIRE</td>\n",
       "      <td>LAKE</td>\n",
       "      <td>0.0</td>\n",
       "      <td>1.0</td>\n",
       "      <td>0.0</td>\n",
       "      <td>0.0</td>\n",
       "      <td>Level II</td>\n",
       "      <td>OES</td>\n",
       "      <td>2016.0</td>\n",
       "      <td>OFLC ONLINE DATA CENTER</td>\n",
       "      <td>49275.0</td>\n",
       "    </tr>\n",
       "    <tr>\n",
       "      <th>3</th>\n",
       "      <td>H-1B</td>\n",
       "      <td>CERTIFIED</td>\n",
       "      <td>PARLIN</td>\n",
       "      <td>NJ</td>\n",
       "      <td>UNITED STATES OF AMERICA</td>\n",
       "      <td>COMPUTER PROGRAMMERS</td>\n",
       "      <td>15-1131</td>\n",
       "      <td>PROGRAMMER ANALYST</td>\n",
       "      <td>1</td>\n",
       "      <td>2017-08-30</td>\n",
       "      <td>2020-08-30</td>\n",
       "      <td>Y</td>\n",
       "      <td>Year</td>\n",
       "      <td>60000.0</td>\n",
       "      <td>0.0</td>\n",
       "      <td>Year</td>\n",
       "      <td>WEEHAWKEN</td>\n",
       "      <td>HUDSON</td>\n",
       "      <td>1.0</td>\n",
       "      <td>0.0</td>\n",
       "      <td>0.0</td>\n",
       "      <td>0.0</td>\n",
       "      <td>Level I</td>\n",
       "      <td>Other</td>\n",
       "      <td>2016.0</td>\n",
       "      <td>OFLC ONLINE DATA CENTER</td>\n",
       "      <td>55910.0</td>\n",
       "    </tr>\n",
       "    <tr>\n",
       "      <th>4</th>\n",
       "      <td>H-1B</td>\n",
       "      <td>CERTIFIED</td>\n",
       "      <td>PRINCETON</td>\n",
       "      <td>NJ</td>\n",
       "      <td>UNITED STATES OF AMERICA</td>\n",
       "      <td>SOFTWARE DEVELOPERS, APPLICATIONS</td>\n",
       "      <td>15-1132</td>\n",
       "      <td>JAVA DEVELOPER</td>\n",
       "      <td>1</td>\n",
       "      <td>2017-03-01</td>\n",
       "      <td>2020-03-01</td>\n",
       "      <td>Y</td>\n",
       "      <td>Year</td>\n",
       "      <td>68500.0</td>\n",
       "      <td>0.0</td>\n",
       "      <td>Year</td>\n",
       "      <td>NEWTON</td>\n",
       "      <td>MIDDLESEX COUNTY</td>\n",
       "      <td>0.0</td>\n",
       "      <td>0.0</td>\n",
       "      <td>0.0</td>\n",
       "      <td>0.0</td>\n",
       "      <td>Level I</td>\n",
       "      <td>OES</td>\n",
       "      <td>2016.0</td>\n",
       "      <td>OFLC ONLINE DATA CENTER</td>\n",
       "      <td>68390.0</td>\n",
       "    </tr>\n",
       "  </tbody>\n",
       "</table>\n",
       "</div>"
      ],
      "text/plain": [
       "  visa_class case_status employer_city employer_state  \\\n",
       "0       H-1B   CERTIFIED      BELLEVUE             WA   \n",
       "1       H-1B   CERTIFIED      NEW YORK             NY   \n",
       "2       H-1B   CERTIFIED     ROCKVILLE             MD   \n",
       "3       H-1B   CERTIFIED        PARLIN             NJ   \n",
       "4       H-1B   CERTIFIED     PRINCETON             NJ   \n",
       "\n",
       "           employer_country                           soc_name soc_code  \\\n",
       "0  UNITED STATES OF AMERICA               MECHANICAL ENGINEERS  17-2141   \n",
       "1  UNITED STATES OF AMERICA                 FINANCIAL ANALYSTS  13-2051   \n",
       "2  UNITED STATES OF AMERICA                     WEB DEVELOPERS  15-1134   \n",
       "3  UNITED STATES OF AMERICA               COMPUTER PROGRAMMERS  15-1131   \n",
       "4  UNITED STATES OF AMERICA  SOFTWARE DEVELOPERS, APPLICATIONS  15-1132   \n",
       "\n",
       "                  job_title  total_workers employment_start_date  \\\n",
       "0          PROJECT ENGINEER              1            2017-08-30   \n",
       "1                   ANALYST              1            2017-08-30   \n",
       "2  DEVELOPER USER INTERFACE              1            2017-08-11   \n",
       "3        PROGRAMMER ANALYST              1            2017-08-30   \n",
       "4            JAVA DEVELOPER              1            2017-03-01   \n",
       "\n",
       "  employment_end_date full_time_position pw_unit_of_pay  \\\n",
       "0          2020-08-30                  Y           Year   \n",
       "1          2020-08-30                  Y           Year   \n",
       "2          2020-08-10                  Y           Year   \n",
       "3          2020-08-30                  Y           Year   \n",
       "4          2020-03-01                  Y           Year   \n",
       "\n",
       "   wage_rate_of_pay_from  wage_rate_of_pay_to wage_unit_of_pay worksite_city  \\\n",
       "0                86000.0                  0.0             Year          NOVI   \n",
       "1                90000.0                  0.0             Year      NEW YORK   \n",
       "2                60700.0              87000.0             Year  LINCOLNSHIRE   \n",
       "3                60000.0                  0.0             Year     WEEHAWKEN   \n",
       "4                68500.0                  0.0             Year        NEWTON   \n",
       "\n",
       "    worksite_county  new_employment  continued_employment  \\\n",
       "0           OAKLAND             1.0                   0.0   \n",
       "1          NEW YORK             1.0                   0.0   \n",
       "2              LAKE             0.0                   1.0   \n",
       "3            HUDSON             1.0                   0.0   \n",
       "4  MIDDLESEX COUNTY             0.0                   0.0   \n",
       "\n",
       "   change_previous_employment  new_concurrent_employment pw_wage_level  \\\n",
       "0                         0.0                        0.0      Level II   \n",
       "1                         0.0                        0.0       Level I   \n",
       "2                         0.0                        0.0      Level II   \n",
       "3                         0.0                        0.0       Level I   \n",
       "4                         0.0                        0.0       Level I   \n",
       "\n",
       "  pw_source  pw_source_year          pw_source_other  prevailing_wage  \n",
       "0     Other          2016.0  OFLC ONLINE DATA CENTER          76773.0  \n",
       "1       OES          2016.0  OFLC ONLINE DATA CENTER          65749.0  \n",
       "2       OES          2016.0  OFLC ONLINE DATA CENTER          49275.0  \n",
       "3     Other          2016.0  OFLC ONLINE DATA CENTER          55910.0  \n",
       "4       OES          2016.0  OFLC ONLINE DATA CENTER          68390.0  "
      ]
     },
     "execution_count": 7,
     "metadata": {},
     "output_type": "execute_result"
    }
   ],
   "source": [
    "dataset.head()"
   ]
  },
  {
   "cell_type": "code",
   "execution_count": 8,
   "metadata": {},
   "outputs": [
    {
     "data": {
      "text/html": [
       "<div>\n",
       "<style scoped>\n",
       "    .dataframe tbody tr th:only-of-type {\n",
       "        vertical-align: middle;\n",
       "    }\n",
       "\n",
       "    .dataframe tbody tr th {\n",
       "        vertical-align: top;\n",
       "    }\n",
       "\n",
       "    .dataframe thead th {\n",
       "        text-align: right;\n",
       "    }\n",
       "</style>\n",
       "<table border=\"1\" class=\"dataframe\">\n",
       "  <thead>\n",
       "    <tr style=\"text-align: right;\">\n",
       "      <th></th>\n",
       "      <th>total_workers</th>\n",
       "      <th>wage_rate_of_pay_from</th>\n",
       "      <th>wage_rate_of_pay_to</th>\n",
       "      <th>new_employment</th>\n",
       "      <th>continued_employment</th>\n",
       "      <th>change_previous_employment</th>\n",
       "      <th>new_concurrent_employment</th>\n",
       "      <th>pw_source_year</th>\n",
       "      <th>prevailing_wage</th>\n",
       "    </tr>\n",
       "  </thead>\n",
       "  <tbody>\n",
       "    <tr>\n",
       "      <th>count</th>\n",
       "      <td>624650.000000</td>\n",
       "      <td>6.246500e+05</td>\n",
       "      <td>6.246490e+05</td>\n",
       "      <td>624650.000000</td>\n",
       "      <td>624650.000000</td>\n",
       "      <td>624650.000000</td>\n",
       "      <td>624650.000000</td>\n",
       "      <td>624605.000000</td>\n",
       "      <td>6.246490e+05</td>\n",
       "    </tr>\n",
       "    <tr>\n",
       "      <th>mean</th>\n",
       "      <td>1.893800</td>\n",
       "      <td>8.285702e+04</td>\n",
       "      <td>2.416596e+04</td>\n",
       "      <td>0.834251</td>\n",
       "      <td>0.326300</td>\n",
       "      <td>0.130657</td>\n",
       "      <td>0.008979</td>\n",
       "      <td>2016.167059</td>\n",
       "      <td>7.321117e+04</td>\n",
       "    </tr>\n",
       "    <tr>\n",
       "      <th>std</th>\n",
       "      <td>4.826703</td>\n",
       "      <td>4.266316e+04</td>\n",
       "      <td>5.255090e+04</td>\n",
       "      <td>3.556236</td>\n",
       "      <td>1.243793</td>\n",
       "      <td>0.955791</td>\n",
       "      <td>0.157690</td>\n",
       "      <td>5.128159</td>\n",
       "      <td>2.574025e+05</td>\n",
       "    </tr>\n",
       "    <tr>\n",
       "      <th>min</th>\n",
       "      <td>0.000000</td>\n",
       "      <td>0.000000e+00</td>\n",
       "      <td>0.000000e+00</td>\n",
       "      <td>0.000000</td>\n",
       "      <td>0.000000</td>\n",
       "      <td>0.000000</td>\n",
       "      <td>0.000000</td>\n",
       "      <td>0.000000</td>\n",
       "      <td>0.000000e+00</td>\n",
       "    </tr>\n",
       "    <tr>\n",
       "      <th>25%</th>\n",
       "      <td>1.000000</td>\n",
       "      <td>6.300000e+04</td>\n",
       "      <td>0.000000e+00</td>\n",
       "      <td>0.000000</td>\n",
       "      <td>0.000000</td>\n",
       "      <td>0.000000</td>\n",
       "      <td>0.000000</td>\n",
       "      <td>2016.000000</td>\n",
       "      <td>5.682600e+04</td>\n",
       "    </tr>\n",
       "    <tr>\n",
       "      <th>50%</th>\n",
       "      <td>1.000000</td>\n",
       "      <td>7.600000e+04</td>\n",
       "      <td>0.000000e+00</td>\n",
       "      <td>0.000000</td>\n",
       "      <td>0.000000</td>\n",
       "      <td>0.000000</td>\n",
       "      <td>0.000000</td>\n",
       "      <td>2016.000000</td>\n",
       "      <td>7.022100e+04</td>\n",
       "    </tr>\n",
       "    <tr>\n",
       "      <th>75%</th>\n",
       "      <td>1.000000</td>\n",
       "      <td>1.000000e+05</td>\n",
       "      <td>0.000000e+00</td>\n",
       "      <td>1.000000</td>\n",
       "      <td>0.000000</td>\n",
       "      <td>0.000000</td>\n",
       "      <td>0.000000</td>\n",
       "      <td>2017.000000</td>\n",
       "      <td>8.914900e+04</td>\n",
       "    </tr>\n",
       "    <tr>\n",
       "      <th>max</th>\n",
       "      <td>155.000000</td>\n",
       "      <td>1.688000e+06</td>\n",
       "      <td>3.000000e+06</td>\n",
       "      <td>150.000000</td>\n",
       "      <td>55.000000</td>\n",
       "      <td>50.000000</td>\n",
       "      <td>50.000000</td>\n",
       "      <td>2017.000000</td>\n",
       "      <td>2.016227e+08</td>\n",
       "    </tr>\n",
       "  </tbody>\n",
       "</table>\n",
       "</div>"
      ],
      "text/plain": [
       "       total_workers  wage_rate_of_pay_from  wage_rate_of_pay_to  \\\n",
       "count  624650.000000           6.246500e+05         6.246490e+05   \n",
       "mean        1.893800           8.285702e+04         2.416596e+04   \n",
       "std         4.826703           4.266316e+04         5.255090e+04   \n",
       "min         0.000000           0.000000e+00         0.000000e+00   \n",
       "25%         1.000000           6.300000e+04         0.000000e+00   \n",
       "50%         1.000000           7.600000e+04         0.000000e+00   \n",
       "75%         1.000000           1.000000e+05         0.000000e+00   \n",
       "max       155.000000           1.688000e+06         3.000000e+06   \n",
       "\n",
       "       new_employment  continued_employment  change_previous_employment  \\\n",
       "count   624650.000000         624650.000000               624650.000000   \n",
       "mean         0.834251              0.326300                    0.130657   \n",
       "std          3.556236              1.243793                    0.955791   \n",
       "min          0.000000              0.000000                    0.000000   \n",
       "25%          0.000000              0.000000                    0.000000   \n",
       "50%          0.000000              0.000000                    0.000000   \n",
       "75%          1.000000              0.000000                    0.000000   \n",
       "max        150.000000             55.000000                   50.000000   \n",
       "\n",
       "       new_concurrent_employment  pw_source_year  prevailing_wage  \n",
       "count              624650.000000   624605.000000     6.246490e+05  \n",
       "mean                    0.008979     2016.167059     7.321117e+04  \n",
       "std                     0.157690        5.128159     2.574025e+05  \n",
       "min                     0.000000        0.000000     0.000000e+00  \n",
       "25%                     0.000000     2016.000000     5.682600e+04  \n",
       "50%                     0.000000     2016.000000     7.022100e+04  \n",
       "75%                     0.000000     2017.000000     8.914900e+04  \n",
       "max                    50.000000     2017.000000     2.016227e+08  "
      ]
     },
     "execution_count": 8,
     "metadata": {},
     "output_type": "execute_result"
    }
   ],
   "source": [
    "dataset.describe()"
   ]
  },
  {
   "cell_type": "code",
   "execution_count": 9,
   "metadata": {},
   "outputs": [
    {
     "name": "stdout",
     "output_type": "stream",
     "text": [
      "<class 'pandas.core.frame.DataFrame'>\n",
      "RangeIndex: 624650 entries, 0 to 624649\n",
      "Data columns (total 27 columns):\n",
      "visa_class                    624650 non-null object\n",
      "case_status                   624650 non-null object\n",
      "employer_city                 624635 non-null object\n",
      "employer_state                624632 non-null object\n",
      "employer_country              528143 non-null object\n",
      "soc_name                      624647 non-null object\n",
      "soc_code                      624648 non-null object\n",
      "job_title                     624645 non-null object\n",
      "total_workers                 624650 non-null int64\n",
      "employment_start_date         624621 non-null object\n",
      "employment_end_date           624620 non-null object\n",
      "full_time_position            624645 non-null object\n",
      "pw_unit_of_pay                624604 non-null object\n",
      "wage_rate_of_pay_from         624650 non-null float64\n",
      "wage_rate_of_pay_to           624649 non-null float64\n",
      "wage_unit_of_pay              624642 non-null object\n",
      "worksite_city                 624637 non-null object\n",
      "worksite_county               623471 non-null object\n",
      "new_employment                624650 non-null float64\n",
      "continued_employment          624650 non-null float64\n",
      "change_previous_employment    624650 non-null float64\n",
      "new_concurrent_employment     624650 non-null float64\n",
      "pw_wage_level                 500930 non-null object\n",
      "pw_source                     624604 non-null object\n",
      "pw_source_year                624605 non-null float64\n",
      "pw_source_other               618278 non-null object\n",
      "prevailing_wage               624649 non-null float64\n",
      "dtypes: float64(8), int64(1), object(18)\n",
      "memory usage: 128.7+ MB\n"
     ]
    }
   ],
   "source": [
    "dataset.info()"
   ]
  },
  {
   "cell_type": "markdown",
   "metadata": {},
   "source": [
    "## Missing Values.\n",
    "----"
   ]
  },
  {
   "cell_type": "code",
   "execution_count": 10,
   "metadata": {},
   "outputs": [
    {
     "data": {
      "text/plain": [
       "visa_class                         0\n",
       "case_status                        0\n",
       "employer_city                     15\n",
       "employer_state                    18\n",
       "employer_country               96507\n",
       "soc_name                           3\n",
       "soc_code                           2\n",
       "job_title                          5\n",
       "total_workers                      0\n",
       "employment_start_date             29\n",
       "employment_end_date               30\n",
       "full_time_position                 5\n",
       "pw_unit_of_pay                    46\n",
       "wage_rate_of_pay_from              0\n",
       "wage_rate_of_pay_to                1\n",
       "wage_unit_of_pay                   8\n",
       "worksite_city                     13\n",
       "worksite_county                 1179\n",
       "new_employment                     0\n",
       "continued_employment               0\n",
       "change_previous_employment         0\n",
       "new_concurrent_employment          0\n",
       "pw_wage_level                 123720\n",
       "pw_source                         46\n",
       "pw_source_year                    45\n",
       "pw_source_other                 6372\n",
       "prevailing_wage                    1\n",
       "dtype: int64"
      ]
     },
     "execution_count": 10,
     "metadata": {},
     "output_type": "execute_result"
    }
   ],
   "source": [
    "# make a list of the variables that contain missing values\n",
    "dataset.isnull().sum()"
   ]
  },
  {
   "cell_type": "markdown",
   "metadata": {},
   "source": [
    "---"
   ]
  },
  {
   "cell_type": "markdown",
   "metadata": {},
   "source": [
    "### Analyzing Numerical variables (Discrete and continous)."
   ]
  },
  {
   "cell_type": "code",
   "execution_count": 11,
   "metadata": {},
   "outputs": [
    {
     "data": {
      "text/plain": [
       "Index(['total_workers', 'wage_rate_of_pay_from', 'wage_rate_of_pay_to',\n",
       "       'new_employment', 'continued_employment', 'change_previous_employment',\n",
       "       'new_concurrent_employment', 'pw_source_year', 'prevailing_wage'],\n",
       "      dtype='object')"
      ]
     },
     "execution_count": 11,
     "metadata": {},
     "output_type": "execute_result"
    }
   ],
   "source": [
    "#numerical variables\n",
    "dataset._get_numeric_data().columns"
   ]
  },
  {
   "cell_type": "code",
   "execution_count": 12,
   "metadata": {},
   "outputs": [
    {
     "name": "stdout",
     "output_type": "stream",
     "text": [
      "count    624650.000000\n",
      "mean          1.893800\n",
      "std           4.826703\n",
      "min           0.000000\n",
      "25%           1.000000\n",
      "50%           1.000000\n",
      "75%           1.000000\n",
      "max         155.000000\n",
      "Name: total_workers, dtype: float64\n"
     ]
    },
    {
     "data": {
      "image/png": "[encoded data removed]",
      "text/plain": [
       "<Figure size 432x288 with 1 Axes>"
      ]
     },
     "metadata": {
      "needs_background": "light"
     },
     "output_type": "display_data"
    }
   ],
   "source": [
    "#Checking Distribution on total_worker\n",
    "dataset.total_workers.hist()\n",
    "print(dataset.total_workers.describe())\n",
    "#the distrubition is skewed and consist of only one value hence we'll not consider this column"
   ]
  },
  {
   "cell_type": "code",
   "execution_count": 13,
   "metadata": {},
   "outputs": [
    {
     "name": "stdout",
     "output_type": "stream",
     "text": [
      "count    6.246500e+05\n",
      "mean     8.285702e+04\n",
      "std      4.266316e+04\n",
      "min      0.000000e+00\n",
      "25%      6.300000e+04\n",
      "50%      7.600000e+04\n",
      "75%      1.000000e+05\n",
      "max      1.688000e+06\n",
      "Name: wage_rate_of_pay_from, dtype: float64\n"
     ]
    },
    {
     "data": {
      "image/png": "[encoded data removed]",
      "text/plain": [
       "<Figure size 432x288 with 1 Axes>"
      ]
     },
     "metadata": {
      "needs_background": "light"
     },
     "output_type": "display_data"
    }
   ],
   "source": [
    "#Checking Distribution on wage rate of pay from\n",
    "dataset.wage_rate_of_pay_from.plot()\n",
    "print(dataset.wage_rate_of_pay_from.describe())\n",
    "#There are variation in this column"
   ]
  },
  {
   "cell_type": "code",
   "execution_count": 14,
   "metadata": {},
   "outputs": [
    {
     "name": "stdout",
     "output_type": "stream",
     "text": [
      "count    6.246490e+05\n",
      "mean     2.416596e+04\n",
      "std      5.255090e+04\n",
      "min      0.000000e+00\n",
      "25%      0.000000e+00\n",
      "50%      0.000000e+00\n",
      "75%      0.000000e+00\n",
      "max      3.000000e+06\n",
      "Name: wage_rate_of_pay_to, dtype: float64\n"
     ]
    },
    {
     "data": {
      "image/png": "[encoded data removed]",
      "text/plain": [
       "<Figure size 432x288 with 1 Axes>"
      ]
     },
     "metadata": {
      "needs_background": "light"
     },
     "output_type": "display_data"
    }
   ],
   "source": [
    "#Checking Distribution on wage_rate_of_pay_to\n",
    "dataset.wage_rate_of_pay_to.plot()\n",
    "print(dataset.wage_rate_of_pay_to.describe())\n",
    "#the distrubition is skewed and consist of only one value hence we'll not consider this column"
   ]
  },
  {
   "cell_type": "code",
   "execution_count": 15,
   "metadata": {},
   "outputs": [
    {
     "name": "stdout",
     "output_type": "stream",
     "text": [
      "count    624650.000000\n",
      "mean          0.834251\n",
      "std           3.556236\n",
      "min           0.000000\n",
      "25%           0.000000\n",
      "50%           0.000000\n",
      "75%           1.000000\n",
      "max         150.000000\n",
      "Name: new_employment, dtype: float64\n"
     ]
    },
    {
     "data": {
      "image/png": "[encoded data removed]",
      "text/plain": [
       "<Figure size 432x288 with 1 Axes>"
      ]
     },
     "metadata": {
      "needs_background": "light"
     },
     "output_type": "display_data"
    }
   ],
   "source": [
    "#Checking Distribution on new_employment\n",
    "dataset.new_employment.plot(kind='hist')\n",
    "print(dataset.new_employment.describe())\n",
    "#the distrubition is skewed and consist of only one value hence we'll not consider this column"
   ]
  },
  {
   "cell_type": "code",
   "execution_count": 16,
   "metadata": {},
   "outputs": [
    {
     "name": "stdout",
     "output_type": "stream",
     "text": [
      "count    624650.000000\n",
      "mean          0.326300\n",
      "std           1.243793\n",
      "min           0.000000\n",
      "25%           0.000000\n",
      "50%           0.000000\n",
      "75%           0.000000\n",
      "max          55.000000\n",
      "Name: continued_employment, dtype: float64\n"
     ]
    },
    {
     "data": {
      "image/png": "[encoded data removed]",
      "text/plain": [
       "<Figure size 432x288 with 1 Axes>"
      ]
     },
     "metadata": {
      "needs_background": "light"
     },
     "output_type": "display_data"
    }
   ],
   "source": [
    "#Checking Distribution on continued_employment\n",
    "dataset.continued_employment.plot(kind='hist')\n",
    "print(dataset.continued_employment.describe())\n",
    "#the distrubition is skewed and consist of only one value hence we'll not consider this column"
   ]
  },
  {
   "cell_type": "code",
   "execution_count": 17,
   "metadata": {},
   "outputs": [
    {
     "name": "stdout",
     "output_type": "stream",
     "text": [
      "count    624650.000000\n",
      "mean          0.130657\n",
      "std           0.955791\n",
      "min           0.000000\n",
      "25%           0.000000\n",
      "50%           0.000000\n",
      "75%           0.000000\n",
      "max          50.000000\n",
      "Name: change_previous_employment, dtype: float64\n"
     ]
    },
    {
     "data": {
      "image/png": "[encoded data removed]",
      "text/plain": [
       "<Figure size 432x288 with 1 Axes>"
      ]
     },
     "metadata": {
      "needs_background": "light"
     },
     "output_type": "display_data"
    }
   ],
   "source": [
    "#Checking Distribution on change_previous_employment\n",
    "dataset.change_previous_employment.plot(kind='hist')\n",
    "print(dataset.change_previous_employment.describe())\n",
    "#the distrubition is skewed and consist of only one value hence we'll not consider this column"
   ]
  },
  {
   "cell_type": "markdown",
   "metadata": {},
   "source": [
    "### Categorical Variables.\n",
    "-----"
   ]
  },
  {
   "cell_type": "code",
   "execution_count": 18,
   "metadata": {},
   "outputs": [
    {
     "name": "stdout",
     "output_type": "stream",
     "text": [
      "Index(['visa_class', 'case_status', 'employer_city', 'employer_state',\n",
      "       'employer_country', 'soc_name', 'soc_code', 'job_title',\n",
      "       'employment_start_date', 'employment_end_date', 'full_time_position',\n",
      "       'pw_unit_of_pay', 'wage_unit_of_pay', 'worksite_city',\n",
      "       'worksite_county', 'pw_wage_level', 'pw_source', 'pw_source_other'],\n",
      "      dtype='object')\n",
      "Number of categorical variables:  18\n"
     ]
    }
   ],
   "source": [
    "### Categorical variables\n",
    "cat_vars = dataset.select_dtypes(include=['object']).columns\n",
    "print(cat_vars)\n",
    "print('Number of categorical variables: ', len(cat_vars))"
   ]
  },
  {
   "cell_type": "code",
   "execution_count": 19,
   "metadata": {},
   "outputs": [
    {
     "name": "stdout",
     "output_type": "stream",
     "text": [
      "count     624650\n",
      "unique         4\n",
      "top         H-1B\n",
      "freq      610304\n",
      "Name: visa_class, dtype: object\n"
     ]
    },
    {
     "data": {
      "image/png": "[encoded data removed]",
      "text/plain": [
       "<Figure size 432x288 with 1 Axes>"
      ]
     },
     "metadata": {
      "needs_background": "light"
     },
     "output_type": "display_data"
    }
   ],
   "source": [
    "#checking for visa_class\n",
    "dataset.visa_class.value_counts().plot(kind='bar')\n",
    "print(dataset.visa_class.describe())\n",
    "\n",
    "#Majority of class belong to H1-B hence we'll remove this"
   ]
  },
  {
   "cell_type": "code",
   "execution_count": 20,
   "metadata": {},
   "outputs": [
    {
     "name": "stdout",
     "output_type": "stream",
     "text": [
      "count        624650\n",
      "unique            4\n",
      "top       CERTIFIED\n",
      "freq         545694\n",
      "Name: case_status, dtype: object\n"
     ]
    },
    {
     "data": {
      "image/png": "[encoded data removed]",
      "text/plain": [
       "<Figure size 432x288 with 1 Axes>"
      ]
     },
     "metadata": {
      "needs_background": "light"
     },
     "output_type": "display_data"
    }
   ],
   "source": [
    "#checking for case_status\n",
    "dataset.case_status.value_counts().plot(kind='bar')\n",
    "print(dataset.case_status.describe())\n",
    "#Majority of class belong to Certified but there are other variation hence we'll keep it for now"
   ]
  },
  {
   "cell_type": "code",
   "execution_count": 21,
   "metadata": {},
   "outputs": [
    {
     "name": "stdout",
     "output_type": "stream",
     "text": [
      "count     624632\n",
      "unique        57\n",
      "top           CA\n",
      "freq      105701\n",
      "Name: employer_state, dtype: object\n"
     ]
    },
    {
     "data": {
      "image/png": "[encoded data removed]",
      "text/plain": [
       "<Figure size 432x288 with 1 Axes>"
      ]
     },
     "metadata": {
      "needs_background": "light"
     },
     "output_type": "display_data"
    }
   ],
   "source": [
    "#checking for employer_state\n",
    "dataset.employer_state.value_counts().plot(kind='bar')\n",
    "print(dataset.employer_state.describe())\n",
    "#There are many unique values out here"
   ]
  },
  {
   "cell_type": "code",
   "execution_count": 22,
   "metadata": {},
   "outputs": [
    {
     "name": "stdout",
     "output_type": "stream",
     "text": [
      "count                       528143\n",
      "unique                           5\n",
      "top       UNITED STATES OF AMERICA\n",
      "freq                        528132\n",
      "Name: employer_country, dtype: object\n"
     ]
    },
    {
     "data": {
      "image/png": "[encoded data removed]",
      "text/plain": [
       "<Figure size 432x288 with 1 Axes>"
      ]
     },
     "metadata": {
      "needs_background": "light"
     },
     "output_type": "display_data"
    }
   ],
   "source": [
    "#checking for employer_country\n",
    "dataset.employer_country.value_counts().plot(kind='bar')\n",
    "print(dataset.employer_country.describe())\n",
    "#Majority are united states hence we can't keep this in our model"
   ]
  },
  {
   "cell_type": "code",
   "execution_count": 23,
   "metadata": {},
   "outputs": [
    {
     "name": "stdout",
     "output_type": "stream",
     "text": [
      "count      624648\n",
      "unique        736\n",
      "top       15-1132\n",
      "freq       124841\n",
      "Name: soc_code, dtype: object\n"
     ]
    }
   ],
   "source": [
    "#Checking for soc_code\n",
    "print(dataset.soc_code.describe())\n",
    "#There are many unique value which requires grouping"
   ]
  },
  {
   "cell_type": "code",
   "execution_count": 24,
   "metadata": {},
   "outputs": [
    {
     "name": "stdout",
     "output_type": "stream",
     "text": [
      "count                 624645\n",
      "unique                 93012\n",
      "top       PROGRAMMER ANALYST\n",
      "freq                   47151\n",
      "Name: job_title, dtype: object\n"
     ]
    },
    {
     "data": {
      "text/plain": [
       "<matplotlib.axes._subplots.AxesSubplot at 0x1f700260048>"
      ]
     },
     "execution_count": 24,
     "metadata": {},
     "output_type": "execute_result"
    },
    {
     "data": {
      "image/png": "[encoded data removed]",
      "text/plain": [
       "<Figure size 432x288 with 1 Axes>"
      ]
     },
     "metadata": {
      "needs_background": "light"
     },
     "output_type": "display_data"
    }
   ],
   "source": [
    "#Checking for job title full_time_position\n",
    "print(dataset.job_title.describe())\n",
    "dataset[dataset[\"pw_wage_level\"]=='Level I'][\"job_title\"].value_counts()[0:15].plot(kind='bar')\n",
    "#There are many unique value which requires grouping\n",
    "#Checking by job title doesn't give any information about the wage level,so going by wage rate , so checking with wage_rate_of_pay_from"
   ]
  },
  {
   "cell_type": "code",
   "execution_count": 25,
   "metadata": {},
   "outputs": [],
   "source": [
    "def WRPF(level):\n",
    "    lst=dataset.wage_rate_of_pay_from[dataset[\"pw_wage_level\"]=='Level I'].value_counts()\n",
    "    X=pd.Series(lst.index[0:10]).apply(lambda x: str(x))\n",
    "    Y=lst[lst.index[0:10]]\n",
    "    plt.bar(X,Y)\n",
    "    plt.show()"
   ]
  },
  {
   "cell_type": "code",
   "execution_count": 26,
   "metadata": {},
   "outputs": [
    {
     "data": {
      "image/png": "[encoded data removed]",
      "text/plain": [
       "<Figure size 432x288 with 1 Axes>"
      ]
     },
     "metadata": {
      "needs_background": "light"
     },
     "output_type": "display_data"
    }
   ],
   "source": [
    "WRPF('Level I')"
   ]
  },
  {
   "cell_type": "code",
   "execution_count": 27,
   "metadata": {},
   "outputs": [
    {
     "data": {
      "image/png": "[encoded data removed]",
      "text/plain": [
       "<Figure size 432x288 with 1 Axes>"
      ]
     },
     "metadata": {
      "needs_background": "light"
     },
     "output_type": "display_data"
    }
   ],
   "source": [
    "WRPF('Level II')"
   ]
  },
  {
   "cell_type": "code",
   "execution_count": 28,
   "metadata": {},
   "outputs": [
    {
     "data": {
      "image/png": "[encoded data removed]",
      "text/plain": [
       "<Figure size 432x288 with 1 Axes>"
      ]
     },
     "metadata": {
      "needs_background": "light"
     },
     "output_type": "display_data"
    }
   ],
   "source": [
    "WRPF('Level III')"
   ]
  },
  {
   "cell_type": "code",
   "execution_count": 29,
   "metadata": {},
   "outputs": [
    {
     "data": {
      "image/png": "[encoded data removed]",
      "text/plain": [
       "<Figure size 432x288 with 1 Axes>"
      ]
     },
     "metadata": {
      "needs_background": "light"
     },
     "output_type": "display_data"
    }
   ],
   "source": [
    "WRPF('Level IV')"
   ]
  },
  {
   "cell_type": "code",
   "execution_count": 30,
   "metadata": {},
   "outputs": [
    {
     "data": {
      "text/plain": [
       "<matplotlib.axes._subplots.AxesSubplot at 0x1f7001d1be0>"
      ]
     },
     "execution_count": 30,
     "metadata": {},
     "output_type": "execute_result"
    },
    {
     "data": {
      "image/png": "[encoded data removed]",
      "text/plain": [
       "<Figure size 432x288 with 1 Axes>"
      ]
     },
     "metadata": {
      "needs_background": "light"
     },
     "output_type": "display_data"
    }
   ],
   "source": [
    "#we need to check the distribution of the levels in below 60 and 60-80 bucket\n",
    "dataset[dataset['wage_rate_of_pay_from']<60000][\"pw_wage_level\"].value_counts().plot(kind='bar')"
   ]
  },
  {
   "cell_type": "code",
   "execution_count": 31,
   "metadata": {},
   "outputs": [
    {
     "data": {
      "text/plain": [
       "<matplotlib.axes._subplots.AxesSubplot at 0x1f70007eef0>"
      ]
     },
     "execution_count": 31,
     "metadata": {},
     "output_type": "execute_result"
    },
    {
     "data": {
      "image/png": "[encoded data removed]",
      "text/plain": [
       "<Figure size 432x288 with 1 Axes>"
      ]
     },
     "metadata": {
      "needs_background": "light"
     },
     "output_type": "display_data"
    }
   ],
   "source": [
    "dataset[dataset['wage_rate_of_pay_from'].between(60000,80000)][\"pw_wage_level\"].value_counts().plot(kind='bar')\n",
    "#hence buketing down , wage_rate_of_pay_from <=80000 -> level I ,80000-100000 --> level II, 100000-120000 -->level III and above 120000 level IV**"
   ]
  },
  {
   "cell_type": "code",
   "execution_count": 32,
   "metadata": {},
   "outputs": [
    {
     "name": "stdout",
     "output_type": "stream",
     "text": [
      "count     624604\n",
      "unique         5\n",
      "top         Year\n",
      "freq      585301\n",
      "Name: pw_unit_of_pay, dtype: object\n"
     ]
    },
    {
     "data": {
      "text/plain": [
       "<matplotlib.axes._subplots.AxesSubplot at 0x1f7424fb828>"
      ]
     },
     "execution_count": 32,
     "metadata": {},
     "output_type": "execute_result"
    },
    {
     "data": {
      "image/png": "[encoded data removed]",
      "text/plain": [
       "<Figure size 432x288 with 1 Axes>"
      ]
     },
     "metadata": {
      "needs_background": "light"
     },
     "output_type": "display_data"
    }
   ],
   "source": [
    "#Checking for pw_unit_of_pay\n",
    "print(dataset.pw_unit_of_pay.describe())\n",
    "dataset.pw_unit_of_pay.value_counts().plot(kind='bar')\n",
    "#Majority of the row contain year hence well hour,month etc.. rows since they do dont contribute much"
   ]
  },
  {
   "cell_type": "code",
   "execution_count": 33,
   "metadata": {},
   "outputs": [
    {
     "name": "stdout",
     "output_type": "stream",
     "text": [
      "count       624637\n",
      "unique        7963\n",
      "top       NEW YORK\n",
      "freq         37722\n",
      "Name: worksite_city, dtype: object\n"
     ]
    }
   ],
   "source": [
    "#Checking for worksite_city\n",
    "print(dataset.worksite_city.describe())\n",
    "#Majority of contribution are skewed hence we'll not consider this feature"
   ]
  },
  {
   "cell_type": "code",
   "execution_count": 34,
   "metadata": {},
   "outputs": [
    {
     "name": "stdout",
     "output_type": "stream",
     "text": [
      "count          623471\n",
      "unique           3691\n",
      "top       SANTA CLARA\n",
      "freq            41862\n",
      "Name: worksite_county, dtype: object\n"
     ]
    }
   ],
   "source": [
    "#Checking for worksite_county\n",
    "print(dataset.worksite_county.describe())\n",
    "#Majority of contribution are skewed hence we'll not consider this feature"
   ]
  },
  {
   "cell_type": "code",
   "execution_count": 35,
   "metadata": {},
   "outputs": [
    {
     "name": "stdout",
     "output_type": "stream",
     "text": [
      "count      500930\n",
      "unique          4\n",
      "top       Level I\n",
      "freq       221848\n",
      "Name: pw_wage_level, dtype: object\n"
     ]
    },
    {
     "data": {
      "text/plain": [
       "<matplotlib.axes._subplots.AxesSubplot at 0x1f74252e668>"
      ]
     },
     "execution_count": 35,
     "metadata": {},
     "output_type": "execute_result"
    },
    {
     "data": {
      "image/png": "[encoded data removed]",
      "text/plain": [
       "<Figure size 432x288 with 1 Axes>"
      ]
     },
     "metadata": {
      "needs_background": "light"
     },
     "output_type": "display_data"
    }
   ],
   "source": [
    "#Checking for pw_wage_level\n",
    "print(dataset.pw_wage_level.describe())\n",
    "dataset.pw_wage_level.value_counts().plot(kind='bar')"
   ]
  },
  {
   "cell_type": "code",
   "execution_count": 36,
   "metadata": {},
   "outputs": [
    {
     "name": "stdout",
     "output_type": "stream",
     "text": [
      "count     624604\n",
      "unique         5\n",
      "top          OES\n",
      "freq      504806\n",
      "Name: pw_source, dtype: object\n"
     ]
    },
    {
     "data": {
      "text/plain": [
       "<matplotlib.axes._subplots.AxesSubplot at 0x1f70022c400>"
      ]
     },
     "execution_count": 36,
     "metadata": {},
     "output_type": "execute_result"
    },
    {
     "data": {
      "image/png": "[encoded data removed]",
      "text/plain": [
       "<Figure size 432x288 with 1 Axes>"
      ]
     },
     "metadata": {
      "needs_background": "light"
     },
     "output_type": "display_data"
    }
   ],
   "source": [
    "#Checking for pw_source\n",
    "print(dataset.pw_source.describe())\n",
    "dataset.pw_source.value_counts().plot(kind='bar')"
   ]
  },
  {
   "cell_type": "code",
   "execution_count": 37,
   "metadata": {},
   "outputs": [
    {
     "name": "stdout",
     "output_type": "stream",
     "text": [
      "count                      618278\n",
      "unique                       3083\n",
      "top       OFLC ONLINE DATA CENTER\n",
      "freq                       580142\n",
      "Name: pw_source_other, dtype: object\n"
     ]
    }
   ],
   "source": [
    "# checking for pw_source_other\n",
    "print(dataset.pw_source_other.describe())\n",
    "#There are many unique values hence it need to be grouped"
   ]
  },
  {
   "cell_type": "code",
   "execution_count": 38,
   "metadata": {},
   "outputs": [
    {
     "data": {
      "text/plain": [
       "<matplotlib.axes._subplots.AxesSubplot at 0x1f700325b70>"
      ]
     },
     "execution_count": 38,
     "metadata": {},
     "output_type": "execute_result"
    },
    {
     "data": {
      "image/png": "[encoded data removed]",
      "text/plain": [
       "<Figure size 432x288 with 2 Axes>"
      ]
     },
     "metadata": {
      "needs_background": "light"
     },
     "output_type": "display_data"
    }
   ],
   "source": [
    "#Correlation \n",
    "cor = dataset.apply(lambda x : pd.factorize(x)[0]).corr(method='pearson', min_periods=1)\n",
    "sns.heatmap(cor)"
   ]
  },
  {
   "cell_type": "markdown",
   "metadata": {},
   "source": [
    "### Handling missing values, ouliers and selecting features.\n",
    "---------"
   ]
  },
  {
   "cell_type": "code",
   "execution_count": 39,
   "metadata": {},
   "outputs": [],
   "source": [
    "# pw_wage_level depends on job_title and wage_rate_of_pay,so cannot impute mode\n",
    "# need to check the distribution of the levels in below 60 and 60-80 bucket\n",
    "# As the value of unit of pay doesn't depends on any other column imputing with mode.\n",
    "\n",
    "dataset['wage_unit_of_pay'].fillna(dataset['wage_unit_of_pay'].mode(),inplace=True)\n",
    "dataset['pw_unit_of_pay'].fillna(dataset['pw_unit_of_pay'].mode(),inplace=True)\n",
    "\n",
    "#pw_source is independent field and values not coverd in pw_source are covered in pw_source_other , so no relation\n",
    "#There are 46 missing in 'pw_source' and 6372 in 'pw_source_other'(0.01%),hence imputiing with mode\n",
    "dataset['pw_source'].fillna(dataset['pw_source'].mode(),inplace=True)\n",
    "dataset['pw_source_other'].fillna(dataset['pw_source_other'].mode(),inplace=True)\n",
    "\n",
    "# employment_start_date & employment_end_date has some null values which can be dropped\n",
    "dataset.dropna(subset=['employment_start_date'], inplace=True)\n",
    "dataset.dropna(subset=['employment_end_date'], inplace=True)\n",
    "dataset.dropna(subset=['employer_state'], inplace=True)\n",
    "dataset.dropna(subset=['job_title'], inplace=True)\n",
    "dataset.dropna(subset=['full_time_position'], inplace=True)\n",
    "dataset.dropna(subset=['wage_rate_of_pay_to'], inplace=True)\n",
    "dataset.dropna(subset=['wage_unit_of_pay'], inplace=True)\n",
    "dataset.dropna(subset=['pw_source'], inplace=True)\n",
    "dataset.dropna(subset=['pw_source_other'], inplace=True)\n",
    "dataset.dropna(subset=['prevailing_wage'], inplace=True)\n",
    "dataset.dropna(subset=['worksite_county'], inplace=True)"
   ]
  },
  {
   "cell_type": "code",
   "execution_count": 40,
   "metadata": {},
   "outputs": [],
   "source": [
    "# checking levels of categorical variables\n",
    "dataset = dataset[dataset['soc_code'].notnull()]\n",
    "#Replacing names which serve under code section\n",
    "dataset['soc_code'].replace('SOFTWARE DEVELOPERS, APPLICATIONS','15-1132',inplace = True)\n",
    "dataset['soc_code'].replace('COMPUTER SYSTEMS ANALYST','15-1121',inplace = True)\n",
    "dataset['soc_code'].replace('ELECTRICAL ENGINEERS','17-2071',inplace = True)\n",
    "dataset['soc_code'].replace('MECHANICAL ENGINEERS','17-2141',inplace = True)\n",
    "dataset['soc_code'].replace('ENGINEERS, ALL OTHER','17-2199',inplace = True)\n",
    "dataset['soc_code'].replace('COMPUTER OCCUPATIONS, ALL OTHER','15-1199',inplace = True)\n",
    "dataset['soc_code'].replace('ACCONTANTS AND AUDITORS','13-2011',inplace = True)\n",
    "dataset['soc_code'].replace('DATABASE ADMINISTRATORS','15-1141',inplace = True)\n",
    "#Removing missing data\n",
    "dataset = dataset.drop(dataset[dataset.soc_code == ''].index)"
   ]
  },
  {
   "cell_type": "code",
   "execution_count": 41,
   "metadata": {},
   "outputs": [],
   "source": [
    "#Full time position\n",
    "dataset = dataset.drop(dataset[dataset.full_time_position == ''].index)\n",
    "\n",
    "##dropping some soc_codes as they are not needed\n",
    "dataset = dataset.drop(dataset[dataset.soc_code == '2019'].index)\n",
    "dataset = dataset.drop(dataset[dataset.soc_code == '1999'].index)\n",
    "dataset = dataset.drop(dataset[dataset.soc_code == '1981'].index)\n",
    "dataset = dataset.drop(dataset[dataset.soc_code == '1971'].index)\n",
    "dataset = dataset.drop(dataset[dataset.soc_code == '1961'].index)\n",
    "dataset = dataset.drop(dataset[dataset.soc_code == '1951'].index)\n",
    "dataset = dataset.drop(dataset[dataset.soc_code == '1941'].index)\n",
    "dataset = dataset.drop(dataset[dataset.soc_code == '1939'].index)\n",
    "dataset = dataset.drop(dataset[dataset.soc_code == '1933'].index)\n",
    "dataset = dataset.drop(dataset[dataset.soc_code == '1932'].index)\n",
    "dataset = dataset.drop(dataset[dataset.soc_code == '1931'].index)\n",
    "\n",
    "\n",
    "#Checking and imputing missing values\n",
    "dataset = dataset.drop(dataset[dataset.employer_state == 'FM'].index)\n",
    "dataset = dataset.drop(dataset[dataset.employer_state == 'AS'].index)\n",
    "dataset = dataset.drop(dataset[dataset.job_title == '124592'].index)\n",
    "dataset = dataset.drop(dataset[dataset.job_title == '62379'].index)\n",
    "dataset['worksite_county'].dropna(axis = 0,inplace = True)"
   ]
  },
  {
   "cell_type": "code",
   "execution_count": 42,
   "metadata": {},
   "outputs": [],
   "source": [
    "dataset = dataset[['case_status', 'employer_state', 'soc_code', 'job_title', \n",
    "                   'full_time_position', 'wage_rate_of_pay_from',\n",
    "                   'wage_rate_of_pay_to', 'wage_unit_of_pay', 'pw_wage_level',\n",
    "                   'pw_source', 'pw_source_other','prevailing_wage']]"
   ]
  },
  {
   "cell_type": "code",
   "execution_count": 43,
   "metadata": {},
   "outputs": [
    {
     "name": "stdout",
     "output_type": "stream",
     "text": [
      "OES      499981\n",
      "Other    115357\n",
      "CBA        1683\n",
      "DBA          15\n",
      "SCA          14\n",
      "Name: pw_source, dtype: int64\n"
     ]
    }
   ],
   "source": [
    "#pw source other\n",
    "print(dataset['pw_source'].value_counts())\n",
    "dataset['pw_source'].replace('CBA','Other',inplace = True)\n",
    "dataset['pw_source'].replace('DBA','Other',inplace = True)\n",
    "dataset['pw_source'].replace('SCA','Other',inplace = True)\n",
    "\n",
    "#Worksite county\n",
    "dataset.loc[((dataset[\"wage_rate_of_pay_from\"] < 80000) & (dataset[\"pw_wage_level\"].isnull())),\"pw_wage_level\"] = \"Level I\"\n",
    "dataset.loc[((dataset[\"wage_rate_of_pay_from\"] >= 80000) & (dataset[\"wage_rate_of_pay_from\"] < 100000) & (dataset[\"pw_wage_level\"].isnull())),\"pw_wage_level\"] = \"Level II\"\n",
    "dataset.loc[((dataset[\"wage_rate_of_pay_from\"] >= 100000) & (dataset[\"wage_rate_of_pay_from\"] < 120000) & (dataset[\"pw_wage_level\"].isnull())),\"pw_wage_level\"] = \"Level III\"\n",
    "dataset.loc[((dataset[\"wage_rate_of_pay_from\"] >= 120000) & (dataset[\"pw_wage_level\"].isnull())),\"pw_wage_level\"] = \"Level IV\"\n",
    "\n",
    "### pw_source_other\n",
    "dataset['pw_source_other'].replace('OFLC (ONLINE DATA CENTER)','OFLC ONLINE DATA CENTER',inplace = True)\n",
    "dataset['pw_source_other'].replace('OFLC DATA CENTER','OFLC ONLINE DATA CENTER',inplace = True)"
   ]
  },
  {
   "cell_type": "markdown",
   "metadata": {},
   "source": [
    "## Handling Ouliers.\n",
    "-----"
   ]
  },
  {
   "cell_type": "code",
   "execution_count": 44,
   "metadata": {},
   "outputs": [],
   "source": [
    "def Outlier_handling(dataset,column,count,replace_with):\n",
    "    List_count=collections.Counter(dataset[column])\n",
    "    List_Collect=list()\n",
    "    List_Collect=[key for key,value in List_count.items() if value < count]        \n",
    "    dataset[column].replace(List_Collect,replace_with,inplace=True)"
   ]
  },
  {
   "cell_type": "code",
   "execution_count": 45,
   "metadata": {},
   "outputs": [
    {
     "name": "stdout",
     "output_type": "stream",
     "text": [
      "CA       104560\n",
      "TX        86940\n",
      "NJ        75761\n",
      "Other     65530\n",
      "NY        43390\n",
      "IL        40874\n",
      "MI        26990\n",
      "PA        25432\n",
      "MA        23134\n",
      "MD        21289\n",
      "WA        20582\n",
      "VA        19279\n",
      "FL        18968\n",
      "NC        18463\n",
      "GA        16704\n",
      "OH         9154\n",
      "Name: employer_state, dtype: int64\n"
     ]
    }
   ],
   "source": [
    "Outlier_handling(dataset,'employer_state',9147,'Other')\n",
    "print(dataset['employer_state'].value_counts())"
   ]
  },
  {
   "cell_type": "code",
   "execution_count": 46,
   "metadata": {},
   "outputs": [
    {
     "name": "stdout",
     "output_type": "stream",
     "text": [
      "OFLC ONLINE DATA CENTER             580611\n",
      "Other                                25361\n",
      "RADFORD GLOBAL TECHNOLOGY SURVEY     11078\n",
      "Name: pw_source_other, dtype: int64\n"
     ]
    }
   ],
   "source": [
    "Outlier_handling(dataset,'pw_source_other',10085,'Other')\n",
    "print(dataset['pw_source_other'].value_counts())"
   ]
  },
  {
   "cell_type": "code",
   "execution_count": 47,
   "metadata": {},
   "outputs": [
    {
     "name": "stdout",
     "output_type": "stream",
     "text": [
      "15-1132    124581\n",
      "15-1121    110111\n",
      "Other       87876\n",
      "15-1131     66899\n",
      "15-1199     58063\n",
      "15-1133     18369\n",
      "13-1111     13347\n",
      "13-2011     11750\n",
      "15-1142     11101\n",
      "17-2141      9856\n",
      "13-2051      9579\n",
      "15-2031      9526\n",
      "15-1141      7750\n",
      "13-1161      7711\n",
      "11-3021      6811\n",
      "17-2072      6431\n",
      "17-2071      6222\n",
      "29-1069      5559\n",
      "15-2041      5126\n",
      "15-1134      5016\n",
      "19-1042      4297\n",
      "17-2199      3480\n",
      "17-2112      3478\n",
      "19-1029      3385\n",
      "17-2051      3370\n",
      "29-1123      2894\n",
      "11-2021      2834\n",
      "19-1021      2517\n",
      "41-9031      2393\n",
      "13-2099      2304\n",
      "27-1024      2219\n",
      "19-2031      2195\n",
      "Name: soc_code, dtype: int64\n"
     ]
    }
   ],
   "source": [
    "Outlier_handling(dataset,'soc_code',2000,'Other')\n",
    "print(dataset['soc_code'].value_counts())"
   ]
  },
  {
   "cell_type": "code",
   "execution_count": 48,
   "metadata": {},
   "outputs": [
    {
     "name": "stdout",
     "output_type": "stream",
     "text": [
      "Year     578715\n",
      "Hour      37640\n",
      "Month       430\n",
      "Week        265\n",
      "Name: wage_unit_of_pay, dtype: int64\n"
     ]
    }
   ],
   "source": [
    "dataset = dataset.drop(dataset[dataset.soc_code == 'Nov-21'].index)\n",
    "dataset = dataset.drop(dataset[dataset.soc_code == 'Nov-31'].index)\n",
    "dataset['wage_unit_of_pay'].replace('Bi-Weekly','Week',inplace = True)\n",
    "print(dataset['wage_unit_of_pay'].value_counts())"
   ]
  },
  {
   "cell_type": "code",
   "execution_count": 49,
   "metadata": {},
   "outputs": [
    {
     "name": "stdout",
     "output_type": "stream",
     "text": [
      "OES      499981\n",
      "Other    117069\n",
      "Name: pw_source, dtype: int64\n"
     ]
    }
   ],
   "source": [
    "#pw source other\n",
    "print(dataset['pw_source'].value_counts())\n",
    "dataset['pw_source'].replace('CBA','Other',inplace = True)\n",
    "dataset['pw_source'].replace('DBA','Other',inplace = True)\n",
    "dataset['pw_source'].replace('SCA','Other',inplace = True)\n",
    "\n",
    "#Worksite county\n",
    "dataset.loc[((dataset[\"wage_rate_of_pay_from\"] < 80000) & (dataset[\"pw_wage_level\"].isnull())),\"pw_wage_level\"] = \"Level I\"\n",
    "dataset.loc[((dataset[\"wage_rate_of_pay_from\"] >= 80000) & (dataset[\"wage_rate_of_pay_from\"] < 100000) & (dataset[\"pw_wage_level\"].isnull())),\"pw_wage_level\"] = \"Level II\"\n",
    "dataset.loc[((dataset[\"wage_rate_of_pay_from\"] >= 100000) & (dataset[\"wage_rate_of_pay_from\"] < 120000) & (dataset[\"pw_wage_level\"].isnull())),\"pw_wage_level\"] = \"Level III\"\n",
    "dataset.loc[((dataset[\"wage_rate_of_pay_from\"] >= 120000) & (dataset[\"pw_wage_level\"].isnull())),\"pw_wage_level\"] = \"Level IV\"\n",
    "\n",
    "### pw_source_other\n",
    "dataset['pw_source_other'].replace('OFLC (ONLINE DATA CENTER)','OFLC ONLINE DATA CENTER',inplace = True)\n",
    "dataset['pw_source_other'].replace('OFLC DATA CENTER','OFLC ONLINE DATA CENTER',inplace = True)\n",
    "\n",
    "#taking backup\n",
    "\n",
    "df = dataset.copy()\n",
    "\n",
    "dataset = dataset[dataset.wage_rate_of_pay_from!=0] #removing 0 value\n",
    "#dataset.wage_rate_of_pay_to[dataset.wage_rate_of_pay_to==0] = 0.4 * dataset.wage_rate_of_pay_from[dataset.wage_rate_of_pay_to==0] \n",
    "dataset = dataset[dataset.prevailing_wage > 5000]\n",
    "dataset = dataset[dataset.wage_unit_of_pay =='Year']\n",
    "dataset = dataset[dataset.prevailing_wage<400000] #Removing outliers"
   ]
  },
  {
   "cell_type": "markdown",
   "metadata": {},
   "source": [
    "**After the several iteration over selecting features, checking co-relation and going back and forth while cleaning the data, we came about selecting few features which can good for our model**"
   ]
  },
  {
   "cell_type": "code",
   "execution_count": 50,
   "metadata": {},
   "outputs": [
    {
     "data": {
      "text/plain": [
       "<matplotlib.axes._subplots.AxesSubplot at 0x1f7000ad198>"
      ]
     },
     "execution_count": 50,
     "metadata": {},
     "output_type": "execute_result"
    },
    {
     "data": {
      "image/png": "[encoded data removed]",
      "text/plain": [
       "<Figure size 432x288 with 2 Axes>"
      ]
     },
     "metadata": {
      "needs_background": "light"
     },
     "output_type": "display_data"
    }
   ],
   "source": [
    "dataset = dataset[['case_status', 'employer_state', 'soc_code',\n",
    "       'full_time_position', 'wage_rate_of_pay_from',\n",
    "       'pw_wage_level','pw_source_other', 'prevailing_wage']]\n",
    "\n",
    "\n",
    "cor = dataset.apply(lambda x : pd.factorize(x)[0]).corr(method='pearson', min_periods=1)\n",
    "sns.heatmap(cor,annot=True)\n"
   ]
  },
  {
   "cell_type": "markdown",
   "metadata": {},
   "source": [
    "### Model Building.\n",
    "------"
   ]
  },
  {
   "cell_type": "code",
   "execution_count": 51,
   "metadata": {},
   "outputs": [],
   "source": [
    "#Getting dummies from categorical variables\n",
    "dataset = pd.get_dummies(dataset,columns=['case_status','employer_state',\n",
    "                                'soc_code','full_time_position',\n",
    "                                'pw_wage_level','pw_source_other'],drop_first=True)\n",
    "\n",
    "dataset = dataset.reset_index(drop=True)    "
   ]
  },
  {
   "cell_type": "code",
   "execution_count": 52,
   "metadata": {},
   "outputs": [],
   "source": [
    "X = dataset.loc[:, dataset.columns != 'prevailing_wage']\n",
    "y = dataset['prevailing_wage']\n",
    "# Splitting the dataset into the Training set and Test set\n",
    "X_train, X_test, y_train, y_test = train_test_split(X, y, test_size = 0.2, random_state = 45)"
   ]
  },
  {
   "cell_type": "code",
   "execution_count": 53,
   "metadata": {},
   "outputs": [
    {
     "name": "stdout",
     "output_type": "stream",
     "text": [
      "R-Squared Score: 0.7758457468707041\n",
      "Adjusted R-Squared Score: 0.7758240397187492\n"
     ]
    }
   ],
   "source": [
    "#Linear regression\n",
    "lm = LinearRegression(normalize=True)\n",
    "lm.fit(X_train,y_train)\n",
    "r_squared = lm.score(X_test,y_test)\n",
    "adjusted_r_squared = 1 - (1-r_squared)*(len(y)-1)/(len(y)-X.shape[1]-1)\n",
    "\n",
    "print('R-Squared Score:',r_squared)\n",
    "print('Adjusted R-Squared Score:',adjusted_r_squared)"
   ]
  },
  {
   "cell_type": "code",
   "execution_count": 54,
   "metadata": {},
   "outputs": [
    {
     "name": "stdout",
     "output_type": "stream",
     "text": [
      "Train MAE: 8145.0\n",
      "Train RMSE: 12832.2723738842\n",
      "\n",
      "Test MAE: 8181.0\n",
      "Test RMSE: 12876.975614634142\n",
      "\n",
      "Average prevailing wage:  77938.67512937076\n"
     ]
    }
   ],
   "source": [
    "#Predicting values\n",
    "y_train_pred = lm.predict(X_train)\n",
    "y_test_pred = lm.predict(X_test)\n",
    "\n",
    "#Checking scores\n",
    "print(\"Train MAE:\",np.round(mean_absolute_error(y_train, y_train_pred)))\n",
    "print('Train RMSE: {}'.format(np.sqrt(mean_squared_error(y_train, y_train_pred))))\n",
    "print()\n",
    "print(\"Test MAE:\", np.round(mean_absolute_error(y_test, y_test_pred)))\n",
    "print('Test RMSE: {}'.format(np.sqrt(mean_squared_error(y_test, y_test_pred))))\n",
    "print()\n",
    "print('Average prevailing wage: ', y_train.mean())"
   ]
  },
  {
   "cell_type": "code",
   "execution_count": null,
   "metadata": {},
   "outputs": [],
   "source": []
  }
 ],
 "metadata": {
  "kernelspec": {
   "display_name": "Python 3",
   "language": "python",
   "name": "python3"
  },
  "language_info": {
   "codemirror_mode": {
    "name": "ipython",
    "version": 3
   },
   "file_extension": ".py",
   "mimetype": "text/x-python",
   "name": "python",
   "nbconvert_exporter": "python",
   "pygments_lexer": "ipython3",
   "version": "3.6.8"
  }
 },
 "nbformat": 4,
 "nbformat_minor": 2
}
